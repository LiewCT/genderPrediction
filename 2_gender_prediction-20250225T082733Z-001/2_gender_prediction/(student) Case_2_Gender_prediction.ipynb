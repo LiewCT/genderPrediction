{
 "cells": [
  {
   "cell_type": "markdown",
   "metadata": {
    "id": "HNoTYZhdfVZA"
   },
   "source": [
    "## Beforehand...\n",
    "** 1.1 NLTK Setup  **\n",
    "   - Install the NLTK library (refer to the previous python file)\n",
    "   - Once NLTK is installed, the text data files (corpora) should be downloaded.  See the following cell to start the download."
   ]
  },
  {
   "cell_type": "code",
   "execution_count": 4,
   "metadata": {},
   "outputs": [
    {
     "name": "stdout",
     "output_type": "stream",
     "text": [
      "Requirement already satisfied: nltk in c:\\programdata\\anaconda3\\lib\\site-packages (3.8.1)\n",
      "Requirement already satisfied: click in c:\\programdata\\anaconda3\\lib\\site-packages (from nltk) (8.0.4)\n",
      "Requirement already satisfied: joblib in c:\\programdata\\anaconda3\\lib\\site-packages (from nltk) (1.2.0)\n",
      "Requirement already satisfied: regex>=2021.8.3 in c:\\programdata\\anaconda3\\lib\\site-packages (from nltk) (2022.7.9)\n",
      "Requirement already satisfied: tqdm in c:\\programdata\\anaconda3\\lib\\site-packages (from nltk) (4.65.0)\n",
      "Requirement already satisfied: colorama in c:\\programdata\\anaconda3\\lib\\site-packages (from click->nltk) (0.4.6)\n",
      "Note: you may need to restart the kernel to use updated packages.\n"
     ]
    }
   ],
   "source": [
    "pip install nltk"
   ]
  },
  {
   "cell_type": "markdown",
   "metadata": {},
   "source": [
    "## Question 1"
   ]
  },
  {
   "cell_type": "code",
   "execution_count": 12,
   "metadata": {
    "colab": {
     "base_uri": "https://localhost:8080/"
    },
    "executionInfo": {
     "elapsed": 341,
     "status": "ok",
     "timestamp": 1710213693819,
     "user": {
      "displayName": "CHING PANG GOH",
      "userId": "03150219032412111071"
     },
     "user_tz": -480
    },
    "id": "LTHhHUJ7fVZE",
    "outputId": "c273904a-ea89-48f1-9e9a-19bbc6f8910e"
   },
   "outputs": [
    {
     "name": "stdout",
     "output_type": "stream",
     "text": [
      "[('Aamir', 'male'), ('Aaron', 'male'), ('Abbey', 'male'), ('Abbie', 'male'), ('Abbot', 'male'), ('Abbott', 'male'), ('Abby', 'male'), ('Abdel', 'male'), ('Abdul', 'male'), ('Abdulkarim', 'male')]\n",
      "\n",
      "Number of male names:\n",
      "2943\n",
      "\n",
      "Number of female names:\n",
      "5001\n",
      "\n",
      "First 10 male names:\n",
      "['Aamir', 'Aaron', 'Abbey', 'Abbie', 'Abbot', 'Abbott', 'Abby', 'Abdel', 'Abdul', 'Abdulkarim']\n",
      "\n",
      "First 10 female names:\n",
      "['Abagael', 'Abagail', 'Abbe', 'Abbey', 'Abbi', 'Abbie', 'Abby', 'Abigael', 'Abigail', 'Abigale']\n"
     ]
    },
    {
     "name": "stderr",
     "output_type": "stream",
     "text": [
      "[nltk_data] Downloading package names to\n",
      "[nltk_data]     C:\\Users\\admin\\AppData\\Roaming\\nltk_data...\n",
      "[nltk_data]   Package names is already up-to-date!\n"
     ]
    }
   ],
   "source": [
    "# code to build a classifier to classify names as male or female\n",
    "# demonstrates the basics of feature extraction and model building\n",
    "# retrieve dataset inside nltk library\n",
    "\n",
    "import nltk\n",
    "nltk.download('names')  #complete this\n",
    "\n",
    "names = [(name, 'male') for name in nltk.corpus.names.words(\"male.txt\")]       #complete this\n",
    "names += [(name, 'female') for name in nltk.corpus.names.words(\"female.txt\")]    #complete this\n",
    "print (names[0:10])\n",
    "\n",
    "#print (names)\n",
    "print(\"\\nNumber of male names:\")\n",
    "print (len(nltk.corpus.names.words('male.txt')))\n",
    "\n",
    "print(\"\\nNumber of female names:\")\n",
    "print (len(nltk.corpus.names.words('female.txt')))\n",
    "\n",
    "male_names = nltk.corpus.names.words('male.txt')\n",
    "print(\"\\nFirst 10 male names:\")\n",
    "print (male_names[0:10])\n",
    "\n",
    "female_names = nltk.corpus.names.words('female.txt')\n",
    "print(\"\\nFirst 10 female names:\")\n",
    "print (female_names[0:10])"
   ]
  },
  {
   "cell_type": "code",
   "execution_count": 29,
   "metadata": {},
   "outputs": [
    {
     "name": "stdout",
     "output_type": "stream",
     "text": [
      "NLTK data directory: C:\\Users\\admin\\AppData\\Roaming\\nltk_data\n"
     ]
    }
   ],
   "source": [
    "data_path = nltk.find(r'C:\\Users\\admin\\AppData\\Roaming\\nltk_data')                                         #complete this\n",
    "print(\"NLTK data directory:\", data_path)"
   ]
  },
  {
   "cell_type": "markdown",
   "metadata": {},
   "source": [
    "## Question 2"
   ]
  },
  {
   "cell_type": "code",
   "execution_count": 19,
   "metadata": {
    "executionInfo": {
     "elapsed": 339,
     "status": "ok",
     "timestamp": 1710214355938,
     "user": {
      "displayName": "CHING PANG GOH",
      "userId": "03150219032412111071"
     },
     "user_tz": -480
    },
    "id": "10ATS4wNpOBW"
   },
   "outputs": [],
   "source": [
    " # feature extraction function (since the data is clean, we may skip the data cleaning)\n",
    "\n",
    "def extract_gender_features(name):          \n",
    "    name = name.lower()\n",
    "    features = {}\n",
    "    features[\"suffix\"] = name[-1:]\n",
    "    features[\"suffix2\"] = name[-2:] if len(name) > 1 else name[0]\n",
    "    features[\"suffix3\"] = name[-3:] if len(name) > 2 else name[0]\n",
    "    features[\"suffix4\"] = name[-4:] if len(name) > 3 else name[0]\n",
    "    features[\"suffix5\"] = name[-5:] if len(name) > 4 else name[0]\n",
    "    features[\"suffix6\"] = name[-6:] if len(name) > 5 else name[0]\n",
    "    features[\"prefix\"] = name[:1] #J\n",
    "    features[\"prefix2\"] = name[:2] if len(name) > 1 else name[0]\n",
    "    features[\"prefix3\"] = name[:3] if len(name) > 2 else name[0]\n",
    "    features[\"prefix4\"] = name[:4] if len(name) > 3 else name[0]\n",
    "    features[\"prefix5\"] = name[:5] if len(name) > 4 else name[0]\n",
    "\n",
    "    print (features)\n",
    "    return features"
   ]
  },
  {
   "cell_type": "markdown",
   "metadata": {},
   "source": [
    "## Question 3"
   ]
  },
  {
   "cell_type": "code",
   "execution_count": 24,
   "metadata": {
    "colab": {
     "base_uri": "https://localhost:8080/"
    },
    "executionInfo": {
     "elapsed": 2237,
     "status": "ok",
     "timestamp": 1710214361316,
     "user": {
      "displayName": "CHING PANG GOH",
      "userId": "03150219032412111071"
     },
     "user_tz": -480
    },
    "id": "W82F3ruhpScN",
    "outputId": "afb493c3-5143-4c46-840e-1564ebbe13d7"
   },
   "outputs": [
    {
     "name": "stdout",
     "output_type": "stream",
     "text": [
      "{'suffix': 'k', 'suffix2': 'ck', 'suffix3': 'eck', 'suffix4': 'teck', 'suffix5': 'nteck', 'suffix6': 'inteck', 'prefix': 'c', 'prefix2': 'ch', 'prefix3': 'chi', 'prefix4': 'chin', 'prefix5': 'chint'}\n"
     ]
    }
   ],
   "source": [
    "# perform feature extraction for every data\n",
    "\n",
    "data = extract_gender_features(\"ChinTeck\")                        #complete this\n",
    "# print (data)  #categarize features with corresponding genders"
   ]
  },
  {
   "cell_type": "markdown",
   "metadata": {},
   "source": [
    "## Question 4"
   ]
  },
  {
   "cell_type": "code",
   "execution_count": 26,
   "metadata": {
    "executionInfo": {
     "elapsed": 2,
     "status": "ok",
     "timestamp": 1710214363697,
     "user": {
      "displayName": "CHING PANG GOH",
      "userId": "03150219032412111071"
     },
     "user_tz": -480
    },
    "id": "XoSf0ek2pYjM"
   },
   "outputs": [
    {
     "ename": "KeyError",
     "evalue": "5",
     "output_type": "error",
     "traceback": [
      "\u001b[1;31m---------------------------------------------------------------------------\u001b[0m",
      "\u001b[1;31mKeyError\u001b[0m                                  Traceback (most recent call last)",
      "Cell \u001b[1;32mIn[26], line 4\u001b[0m\n\u001b[0;32m      1\u001b[0m \u001b[38;5;66;03m# Machine learning: data splitting\u001b[39;00m\n\u001b[0;32m      3\u001b[0m \u001b[38;5;28;01mimport\u001b[39;00m \u001b[38;5;21;01mrandom\u001b[39;00m\n\u001b[1;32m----> 4\u001b[0m random\u001b[38;5;241m.\u001b[39mshuffle(data)                          \u001b[38;5;66;03m#complete this \u001b[39;00m\n\u001b[0;32m      6\u001b[0m dataCount \u001b[38;5;241m=\u001b[39m \u001b[38;5;28mlen\u001b[39m(data)\n\u001b[0;32m      7\u001b[0m trainCount \u001b[38;5;241m=\u001b[39m \u001b[38;5;28mint\u001b[39m(\u001b[38;5;241m0.8\u001b[39m \u001b[38;5;241m*\u001b[39m dataCount)                   \u001b[38;5;66;03m#complete this\u001b[39;00m\n",
      "File \u001b[1;32mC:\\ProgramData\\anaconda3\\Lib\\random.py:383\u001b[0m, in \u001b[0;36mRandom.shuffle\u001b[1;34m(self, x)\u001b[0m\n\u001b[0;32m    380\u001b[0m \u001b[38;5;28;01mfor\u001b[39;00m i \u001b[38;5;129;01min\u001b[39;00m \u001b[38;5;28mreversed\u001b[39m(\u001b[38;5;28mrange\u001b[39m(\u001b[38;5;241m1\u001b[39m, \u001b[38;5;28mlen\u001b[39m(x))):\n\u001b[0;32m    381\u001b[0m     \u001b[38;5;66;03m# pick an element in x[:i+1] with which to exchange x[i]\u001b[39;00m\n\u001b[0;32m    382\u001b[0m     j \u001b[38;5;241m=\u001b[39m randbelow(i \u001b[38;5;241m+\u001b[39m \u001b[38;5;241m1\u001b[39m)\n\u001b[1;32m--> 383\u001b[0m     x[i], x[j] \u001b[38;5;241m=\u001b[39m x[j], x[i]\n",
      "\u001b[1;31mKeyError\u001b[0m: 5"
     ]
    }
   ],
   "source": [
    "# Machine learning: data splitting\n",
    "\n",
    "import random\n",
    "random.shuffle(data)                          #complete this \n",
    "\n",
    "dataCount = len(data)\n",
    "trainCount = int(0.8 * dataCount)                   #complete this\n",
    "\n",
    "trainData = data[:trainCount]\n",
    "testData = data[trainCount:]\n",
    "\n",
    "\n",
    "# import random\n",
    "\n",
    "# # Assuming 'data' is your dataset (list, etc.)\n",
    "# random.shuffle(data)  # Shuffle the data randomly\n",
    "\n",
    "# dataCount = len(data)\n",
    "# trainCount = int(0.8 * dataCount)  # 80% for training data, adjust as needed\n",
    "\n",
    "# trainData = data[:trainCount]\n",
    "# testData = data[trainCount:]\n"
   ]
  },
  {
   "cell_type": "markdown",
   "metadata": {},
   "source": [
    "## Question 5"
   ]
  },
  {
   "cell_type": "code",
   "execution_count": null,
   "metadata": {
    "executionInfo": {
     "elapsed": 324,
     "status": "ok",
     "timestamp": 1710214369725,
     "user": {
      "displayName": "CHING PANG GOH",
      "userId": "03150219032412111071"
     },
     "user_tz": -480
    },
    "id": "nche2wTwparM"
   },
   "outputs": [],
   "source": [
    "# Machine learning: data training\n",
    "\n",
    "bayes = nltk.NaiveBayesClassifier.train(trainData)                           #complete this"
   ]
  },
  {
   "cell_type": "markdown",
   "metadata": {},
   "source": [
    "## Question 6"
   ]
  },
  {
   "cell_type": "code",
   "execution_count": 16,
   "metadata": {
    "colab": {
     "base_uri": "https://localhost:8080/"
    },
    "executionInfo": {
     "elapsed": 2,
     "status": "ok",
     "timestamp": 1710214371883,
     "user": {
      "displayName": "CHING PANG GOH",
      "userId": "03150219032412111071"
     },
     "user_tz": -480
    },
    "id": "v8XqoBf-pfm-",
    "outputId": "76d16be1-aa0f-4f69-e30f-4f3e23d0bab1"
   },
   "outputs": [
    {
     "ename": "NameError",
     "evalue": "name 'bayes' is not defined",
     "output_type": "error",
     "traceback": [
      "\u001b[1;31m---------------------------------------------------------------------------\u001b[0m",
      "\u001b[1;31mNameError\u001b[0m                                 Traceback (most recent call last)",
      "Cell \u001b[1;32mIn[16], line 3\u001b[0m\n\u001b[0;32m      1\u001b[0m \u001b[38;5;66;03m# Machine learning: accuracy\u001b[39;00m\n\u001b[1;32m----> 3\u001b[0m \u001b[38;5;28mprint\u001b[39m(\u001b[38;5;124m\"\u001b[39m\u001b[38;5;124mtrainData accuracy=\u001b[39m\u001b[38;5;124m\"\u001b[39m,nltk\u001b[38;5;241m.\u001b[39mclassify\u001b[38;5;241m.\u001b[39maccuracy(bayes,trainData))                               \u001b[38;5;66;03m#complete this\u001b[39;00m\n\u001b[0;32m      4\u001b[0m \u001b[38;5;28mprint\u001b[39m(\u001b[38;5;124m\"\u001b[39m\u001b[38;5;124mtestData accuracy=\u001b[39m\u001b[38;5;124m\"\u001b[39m,nltk\u001b[38;5;241m.\u001b[39mclassify\u001b[38;5;241m.\u001b[39maccuracy(bayes,testData))                             \u001b[38;5;66;03m#complete this\u001b[39;00m\n\u001b[0;32m      6\u001b[0m bayes\u001b[38;5;241m.\u001b[39mshow_most_informative_features(\u001b[38;5;241m25\u001b[39m)\n",
      "\u001b[1;31mNameError\u001b[0m: name 'bayes' is not defined"
     ]
    }
   ],
   "source": [
    "# Machine learning: accuracy\n",
    "\n",
    "print(\"trainData accuracy=\",nltk.classify.accuracy(bayes,trainData))                               #complete this\n",
    "print(\"testData accuracy=\",nltk.classify.accuracy(bayes,testData))                             #complete this\n",
    "\n",
    "bayes.show_most_informative_features(25)"
   ]
  },
  {
   "cell_type": "markdown",
   "metadata": {},
   "source": [
    "## Question 7"
   ]
  },
  {
   "cell_type": "code",
   "execution_count": 17,
   "metadata": {
    "colab": {
     "base_uri": "https://localhost:8080/"
    },
    "executionInfo": {
     "elapsed": 3343,
     "status": "ok",
     "timestamp": 1710214407325,
     "user": {
      "displayName": "CHING PANG GOH",
      "userId": "03150219032412111071"
     },
     "user_tz": -480
    },
    "id": "zw7oimbWLvZn",
    "outputId": "dbe3bfc7-dc19-441f-812b-77fb09633ba7"
   },
   "outputs": [
    {
     "name": "stdout",
     "output_type": "stream",
     "text": [
      "Name:Roy\n"
     ]
    },
    {
     "ename": "NameError",
     "evalue": "name 'bayes' is not defined",
     "output_type": "error",
     "traceback": [
      "\u001b[1;31m---------------------------------------------------------------------------\u001b[0m",
      "\u001b[1;31mNameError\u001b[0m                                 Traceback (most recent call last)",
      "Cell \u001b[1;32mIn[17], line 4\u001b[0m\n\u001b[0;32m      1\u001b[0m \u001b[38;5;66;03m# Predict a new name\u001b[39;00m\n\u001b[0;32m      3\u001b[0m input_name \u001b[38;5;241m=\u001b[39m \u001b[38;5;28minput\u001b[39m(\u001b[38;5;124m\"\u001b[39m\u001b[38;5;124mName:\u001b[39m\u001b[38;5;124m\"\u001b[39m)\n\u001b[1;32m----> 4\u001b[0m \u001b[38;5;28mprint\u001b[39m(bayes\u001b[38;5;241m.\u001b[39mclassify(extract_gender_features(input_name)))\n",
      "\u001b[1;31mNameError\u001b[0m: name 'bayes' is not defined"
     ]
    }
   ],
   "source": [
    "# Predict a new name\n",
    "\n",
    "input_name = input(\"Name:\")\n",
    "print(bayes.classify(extract_gender_features(input_name)))                                    #complete this"
   ]
  },
  {
   "cell_type": "markdown",
   "metadata": {},
   "source": [
    "## Question 8"
   ]
  },
  {
   "cell_type": "code",
   "execution_count": null,
   "metadata": {
    "colab": {
     "base_uri": "https://localhost:8080/"
    },
    "executionInfo": {
     "elapsed": 4984,
     "status": "ok",
     "timestamp": 1710209457534,
     "user": {
      "displayName": "CHING PANG GOH",
      "userId": "03150219032412111071"
     },
     "user_tz": -480
    },
    "id": "_YPpzzzBfVZG",
    "outputId": "59a9eae9-0fe8-4875-ae09-dc67633b4db2"
   },
   "outputs": [],
   "source": [
    "# Display wrong prediction for improvement\n",
    "\n",
    "errors = []\n",
    "\n",
    "for (name,label) in names:\n",
    "    if bayes.classify(extract_gender_features(name)) != label:\n",
    "        errors.append({\"name\": name, \"label\": label})\n",
    "\n",
    "errors"
   ]
  },
  {
   "cell_type": "markdown",
   "metadata": {},
   "source": [
    "## Question 9"
   ]
  },
  {
   "cell_type": "code",
   "execution_count": 27,
   "metadata": {},
   "outputs": [
    {
     "ename": "NameError",
     "evalue": "name 'bayes' is not defined",
     "output_type": "error",
     "traceback": [
      "\u001b[1;31m---------------------------------------------------------------------------\u001b[0m",
      "\u001b[1;31mNameError\u001b[0m                                 Traceback (most recent call last)",
      "Cell \u001b[1;32mIn[27], line 5\u001b[0m\n\u001b[0;32m      1\u001b[0m \u001b[38;5;66;03m# Store the model into joblib using dump method \u001b[39;00m\n\u001b[0;32m      2\u001b[0m \u001b[38;5;66;03m# complete this\u001b[39;00m\n\u001b[0;32m      4\u001b[0m \u001b[38;5;28;01mfrom\u001b[39;00m \u001b[38;5;21;01mjoblib\u001b[39;00m \u001b[38;5;28;01mimport\u001b[39;00m dump\n\u001b[1;32m----> 5\u001b[0m dump(bayes, \u001b[38;5;124m'\u001b[39m\u001b[38;5;124mgender_prediction.joblib\u001b[39m\u001b[38;5;124m'\u001b[39m)\n",
      "\u001b[1;31mNameError\u001b[0m: name 'bayes' is not defined"
     ]
    }
   ],
   "source": [
    "# Store the model into joblib using dump method \n",
    "# complete this\n",
    "\n",
    "from joblib import dump\n",
    "dump(bayes, 'gender_prediction.joblib')"
   ]
  },
  {
   "cell_type": "code",
   "execution_count": null,
   "metadata": {},
   "outputs": [],
   "source": []
  }
 ],
 "metadata": {
  "colab": {
   "provenance": []
  },
  "kernelspec": {
   "display_name": "Python 3 (ipykernel)",
   "language": "python",
   "name": "python3"
  },
  "language_info": {
   "codemirror_mode": {
    "name": "ipython",
    "version": 3
   },
   "file_extension": ".py",
   "mimetype": "text/x-python",
   "name": "python",
   "nbconvert_exporter": "python",
   "pygments_lexer": "ipython3",
   "version": "3.11.5"
  }
 },
 "nbformat": 4,
 "nbformat_minor": 4
}
